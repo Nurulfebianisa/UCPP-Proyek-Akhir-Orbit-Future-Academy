{
  "cells": [
    {
      "cell_type": "code",
      "execution_count": 1,
      "metadata": {
        "id": "T6JbeHZAoSvA"
      },
      "outputs": [],
      "source": [
        "import pandas as pd\n",
        "import numpy as np\n",
        "import matplotlib.pyplot as plt\n",
        "import statistics\n",
        "import seaborn as sns\n",
        "import plotly.figure_factory as ff\n",
        "import plotly.graph_objs as go\n",
        "from plotly.offline import download_plotlyjs, init_notebook_mode, plot, iplot\n",
        "import plotly.express as px\n",
        "import requests\n",
        "pd.options.mode.chained_assignment = None\n",
        "import os\n",
        "import matplotlib.pyplot as plt\n",
        "import sklearn.metrics as metrics"
      ]
    },
    {
      "cell_type": "code",
      "execution_count": 2,
      "metadata": {},
      "outputs": [
        {
          "data": {
            "text/html": [
              "<div>\n",
              "<style scoped>\n",
              "    .dataframe tbody tr th:only-of-type {\n",
              "        vertical-align: middle;\n",
              "    }\n",
              "\n",
              "    .dataframe tbody tr th {\n",
              "        vertical-align: top;\n",
              "    }\n",
              "\n",
              "    .dataframe thead th {\n",
              "        text-align: right;\n",
              "    }\n",
              "</style>\n",
              "<table border=\"1\" class=\"dataframe\">\n",
              "  <thead>\n",
              "    <tr style=\"text-align: right;\">\n",
              "      <th></th>\n",
              "      <th>brand</th>\n",
              "      <th>model</th>\n",
              "      <th>year</th>\n",
              "      <th>transmission</th>\n",
              "      <th>mileage</th>\n",
              "      <th>fuelType</th>\n",
              "      <th>engineSize</th>\n",
              "      <th>price</th>\n",
              "    </tr>\n",
              "  </thead>\n",
              "  <tbody>\n",
              "    <tr>\n",
              "      <th>0</th>\n",
              "      <td>8</td>\n",
              "      <td>75</td>\n",
              "      <td>2016</td>\n",
              "      <td>1</td>\n",
              "      <td>24089</td>\n",
              "      <td>4</td>\n",
              "      <td>2.0</td>\n",
              "      <td>16000</td>\n",
              "    </tr>\n",
              "    <tr>\n",
              "      <th>1</th>\n",
              "      <td>8</td>\n",
              "      <td>75</td>\n",
              "      <td>2017</td>\n",
              "      <td>1</td>\n",
              "      <td>18615</td>\n",
              "      <td>4</td>\n",
              "      <td>2.0</td>\n",
              "      <td>15995</td>\n",
              "    </tr>\n",
              "    <tr>\n",
              "      <th>2</th>\n",
              "      <td>8</td>\n",
              "      <td>75</td>\n",
              "      <td>2015</td>\n",
              "      <td>1</td>\n",
              "      <td>27469</td>\n",
              "      <td>4</td>\n",
              "      <td>2.0</td>\n",
              "      <td>13998</td>\n",
              "    </tr>\n",
              "    <tr>\n",
              "      <th>3</th>\n",
              "      <td>8</td>\n",
              "      <td>75</td>\n",
              "      <td>2017</td>\n",
              "      <td>1</td>\n",
              "      <td>14736</td>\n",
              "      <td>4</td>\n",
              "      <td>2.0</td>\n",
              "      <td>18998</td>\n",
              "    </tr>\n",
              "    <tr>\n",
              "      <th>4</th>\n",
              "      <td>8</td>\n",
              "      <td>75</td>\n",
              "      <td>2017</td>\n",
              "      <td>1</td>\n",
              "      <td>36284</td>\n",
              "      <td>4</td>\n",
              "      <td>2.0</td>\n",
              "      <td>17498</td>\n",
              "    </tr>\n",
              "  </tbody>\n",
              "</table>\n",
              "</div>"
            ],
            "text/plain": [
              "   brand  model  year  transmission  mileage  fuelType  engineSize  price\n",
              "0      8     75  2016             1    24089         4         2.0  16000\n",
              "1      8     75  2017             1    18615         4         2.0  15995\n",
              "2      8     75  2015             1    27469         4         2.0  13998\n",
              "3      8     75  2017             1    14736         4         2.0  18998\n",
              "4      8     75  2017             1    36284         4         2.0  17498"
            ]
          },
          "execution_count": 2,
          "metadata": {},
          "output_type": "execute_result"
        }
      ],
      "source": [
        "full_data = pd.read_csv('full_data.csv')\n",
        "full_data.head()"
      ]
    },
    {
      "cell_type": "code",
      "execution_count": 3,
      "metadata": {
        "colab": {
          "base_uri": "https://localhost:8080/"
        },
        "id": "u_7KQuZMpTya",
        "outputId": "3ee6b05b-df7c-437f-9c1c-ee2d9e0d8803"
      },
      "outputs": [
        {
          "name": "stdout",
          "output_type": "stream",
          "text": [
            "        brand  model  year  transmission  mileage  fuelType  engineSize  price\n",
            "0           8     75  2016             1    24089         4         2.0  16000\n",
            "1           8     75  2017             1    18615         4         2.0  15995\n",
            "2           8     75  2015             1    27469         4         2.0  13998\n",
            "3           8     75  2017             1    14736         4         2.0  18998\n",
            "4           8     75  2017             1    36284         4         2.0  17498\n",
            "...       ...    ...   ...           ...      ...       ...         ...    ...\n",
            "108535      0     15  2020             1     4018         4         1.0  16999\n",
            "108536      0     15  2020             1     1978         4         1.0  16999\n",
            "108537      0     15  2020             1      609         4         1.0  17199\n",
            "108538      0    123  2017             0     8646         4         1.4  19499\n",
            "108539      0    123  2016             1    11855         4         1.4  15999\n",
            "\n",
            "[108540 rows x 8 columns]\n"
          ]
        }
      ],
      "source": [
        "print (full_data)"
      ]
    },
    {
      "cell_type": "code",
      "execution_count": 4,
      "metadata": {
        "colab": {
          "base_uri": "https://localhost:8080/"
        },
        "id": "6NB0uPl4pa6R",
        "outputId": "d4ea6a46-d079-45dc-ec58-6364626734e3"
      },
      "outputs": [
        {
          "data": {
            "text/plain": [
              "(108540, 8)"
            ]
          },
          "execution_count": 4,
          "metadata": {},
          "output_type": "execute_result"
        }
      ],
      "source": [
        "full_data.shape"
      ]
    },
    {
      "cell_type": "code",
      "execution_count": null,
      "metadata": {
        "id": "sNkN6n2DrK19"
      },
      "outputs": [],
      "source": []
    },
    {
      "cell_type": "code",
      "execution_count": 5,
      "metadata": {
        "colab": {
          "base_uri": "https://localhost:8080/"
        },
        "id": "M3gNHaOUqwIk",
        "outputId": "0b9285dc-95b6-4053-ae93-9b2dda09c72a"
      },
      "outputs": [
        {
          "data": {
            "text/plain": [
              "brand           0\n",
              "model           0\n",
              "year            0\n",
              "transmission    0\n",
              "mileage         0\n",
              "fuelType        0\n",
              "engineSize      0\n",
              "price           0\n",
              "dtype: int64"
            ]
          },
          "execution_count": 5,
          "metadata": {},
          "output_type": "execute_result"
        }
      ],
      "source": [
        "full_data.isnull().sum()"
      ]
    },
    {
      "cell_type": "code",
      "execution_count": 6,
      "metadata": {
        "id": "Da21Oc1BwzRg"
      },
      "outputs": [],
      "source": [
        "full_data = full_data.drop_duplicates()"
      ]
    },
    {
      "cell_type": "code",
      "execution_count": 7,
      "metadata": {
        "colab": {
          "base_uri": "https://localhost:8080/"
        },
        "id": "rhguXcn6rM9T",
        "outputId": "fb1e4ca7-5ab6-4cc5-848d-ab9296c8831b"
      },
      "outputs": [
        {
          "data": {
            "text/plain": [
              "0"
            ]
          },
          "execution_count": 7,
          "metadata": {},
          "output_type": "execute_result"
        }
      ],
      "source": [
        "full_data.duplicated().sum()"
      ]
    },
    {
      "cell_type": "code",
      "execution_count": 8,
      "metadata": {
        "colab": {
          "base_uri": "https://localhost:8080/",
          "height": 188
        },
        "id": "FUtvAS6vntTO",
        "outputId": "705d323d-c12b-4ab1-d939-cef88a1af6d0"
      },
      "outputs": [
        {
          "data": {
            "text/plain": [
              "<bound method NDFrame.describe of         brand  model  year  transmission  mileage  fuelType  engineSize  price\n",
              "0           8     75  2016             1    24089         4         2.0  16000\n",
              "1           8     75  2017             1    18615         4         2.0  15995\n",
              "2           8     75  2015             1    27469         4         2.0  13998\n",
              "3           8     75  2017             1    14736         4         2.0  18998\n",
              "4           8     75  2017             1    36284         4         2.0  17498\n",
              "...       ...    ...   ...           ...      ...       ...         ...    ...\n",
              "108535      0     15  2020             1     4018         4         1.0  16999\n",
              "108536      0     15  2020             1     1978         4         1.0  16999\n",
              "108537      0     15  2020             1      609         4         1.0  17199\n",
              "108538      0    123  2017             0     8646         4         1.4  19499\n",
              "108539      0    123  2016             1    11855         4         1.4  15999\n",
              "\n",
              "[106066 rows x 8 columns]>"
            ]
          },
          "execution_count": 8,
          "metadata": {},
          "output_type": "execute_result"
        }
      ],
      "source": [
        "full_data.describe"
      ]
    },
    {
      "cell_type": "code",
      "execution_count": 9,
      "metadata": {
        "colab": {
          "base_uri": "https://localhost:8080/"
        },
        "id": "gogOcpyRntWk",
        "outputId": "cfe308ac-050e-4c67-cfa3-1e1a2a58fe60"
      },
      "outputs": [
        {
          "name": "stdout",
          "output_type": "stream",
          "text": [
            "brand             int64\n",
            "model             int64\n",
            "year              int64\n",
            "transmission      int64\n",
            "mileage           int64\n",
            "fuelType          int64\n",
            "engineSize      float64\n",
            "price             int64\n",
            "dtype: object\n"
          ]
        }
      ],
      "source": [
        "print (full_data.dtypes)"
      ]
    },
    {
      "cell_type": "code",
      "execution_count": 10,
      "metadata": {
        "colab": {
          "base_uri": "https://localhost:8080/",
          "height": 300
        },
        "id": "ShBA8wkknxqb",
        "outputId": "b1e50319-ada3-455e-b429-bc2d2e87d4bb"
      },
      "outputs": [
        {
          "data": {
            "text/html": [
              "<div>\n",
              "<style scoped>\n",
              "    .dataframe tbody tr th:only-of-type {\n",
              "        vertical-align: middle;\n",
              "    }\n",
              "\n",
              "    .dataframe tbody tr th {\n",
              "        vertical-align: top;\n",
              "    }\n",
              "\n",
              "    .dataframe thead th {\n",
              "        text-align: right;\n",
              "    }\n",
              "</style>\n",
              "<table border=\"1\" class=\"dataframe\">\n",
              "  <thead>\n",
              "    <tr style=\"text-align: right;\">\n",
              "      <th></th>\n",
              "      <th>brand</th>\n",
              "      <th>model</th>\n",
              "      <th>year</th>\n",
              "      <th>transmission</th>\n",
              "      <th>mileage</th>\n",
              "      <th>fuelType</th>\n",
              "      <th>engineSize</th>\n",
              "      <th>price</th>\n",
              "    </tr>\n",
              "  </thead>\n",
              "  <tbody>\n",
              "    <tr>\n",
              "      <th>count</th>\n",
              "      <td>106066.000000</td>\n",
              "      <td>106066.000000</td>\n",
              "      <td>106066.000000</td>\n",
              "      <td>106066.000000</td>\n",
              "      <td>106066.000000</td>\n",
              "      <td>106066.000000</td>\n",
              "      <td>106066.000000</td>\n",
              "      <td>106066.000000</td>\n",
              "    </tr>\n",
              "    <tr>\n",
              "      <th>mean</th>\n",
              "      <td>5.362557</td>\n",
              "      <td>76.504007</td>\n",
              "      <td>2017.069787</td>\n",
              "      <td>1.253644</td>\n",
              "      <td>23240.353054</td>\n",
              "      <td>2.267249</td>\n",
              "      <td>1.665071</td>\n",
              "      <td>16857.861445</td>\n",
              "    </tr>\n",
              "    <tr>\n",
              "      <th>std</th>\n",
              "      <td>3.324041</td>\n",
              "      <td>51.253354</td>\n",
              "      <td>2.132206</td>\n",
              "      <td>1.030992</td>\n",
              "      <td>21121.886873</td>\n",
              "      <td>1.949426</td>\n",
              "      <td>0.558289</td>\n",
              "      <td>9779.384034</td>\n",
              "    </tr>\n",
              "    <tr>\n",
              "      <th>min</th>\n",
              "      <td>0.000000</td>\n",
              "      <td>0.000000</td>\n",
              "      <td>1970.000000</td>\n",
              "      <td>0.000000</td>\n",
              "      <td>1.000000</td>\n",
              "      <td>0.000000</td>\n",
              "      <td>0.000000</td>\n",
              "      <td>450.000000</td>\n",
              "    </tr>\n",
              "    <tr>\n",
              "      <th>25%</th>\n",
              "      <td>3.000000</td>\n",
              "      <td>36.000000</td>\n",
              "      <td>2016.000000</td>\n",
              "      <td>1.000000</td>\n",
              "      <td>7752.250000</td>\n",
              "      <td>0.000000</td>\n",
              "      <td>1.200000</td>\n",
              "      <td>10185.500000</td>\n",
              "    </tr>\n",
              "    <tr>\n",
              "      <th>50%</th>\n",
              "      <td>6.000000</td>\n",
              "      <td>65.000000</td>\n",
              "      <td>2017.000000</td>\n",
              "      <td>1.000000</td>\n",
              "      <td>17542.500000</td>\n",
              "      <td>4.000000</td>\n",
              "      <td>1.600000</td>\n",
              "      <td>14550.000000</td>\n",
              "    </tr>\n",
              "    <tr>\n",
              "      <th>75%</th>\n",
              "      <td>9.000000</td>\n",
              "      <td>113.000000</td>\n",
              "      <td>2019.000000</td>\n",
              "      <td>1.000000</td>\n",
              "      <td>32475.000000</td>\n",
              "      <td>4.000000</td>\n",
              "      <td>2.000000</td>\n",
              "      <td>20870.750000</td>\n",
              "    </tr>\n",
              "    <tr>\n",
              "      <th>max</th>\n",
              "      <td>10.000000</td>\n",
              "      <td>194.000000</td>\n",
              "      <td>2060.000000</td>\n",
              "      <td>3.000000</td>\n",
              "      <td>323000.000000</td>\n",
              "      <td>4.000000</td>\n",
              "      <td>6.600000</td>\n",
              "      <td>159999.000000</td>\n",
              "    </tr>\n",
              "  </tbody>\n",
              "</table>\n",
              "</div>"
            ],
            "text/plain": [
              "               brand          model           year   transmission  \\\n",
              "count  106066.000000  106066.000000  106066.000000  106066.000000   \n",
              "mean        5.362557      76.504007    2017.069787       1.253644   \n",
              "std         3.324041      51.253354       2.132206       1.030992   \n",
              "min         0.000000       0.000000    1970.000000       0.000000   \n",
              "25%         3.000000      36.000000    2016.000000       1.000000   \n",
              "50%         6.000000      65.000000    2017.000000       1.000000   \n",
              "75%         9.000000     113.000000    2019.000000       1.000000   \n",
              "max        10.000000     194.000000    2060.000000       3.000000   \n",
              "\n",
              "             mileage       fuelType     engineSize          price  \n",
              "count  106066.000000  106066.000000  106066.000000  106066.000000  \n",
              "mean    23240.353054       2.267249       1.665071   16857.861445  \n",
              "std     21121.886873       1.949426       0.558289    9779.384034  \n",
              "min         1.000000       0.000000       0.000000     450.000000  \n",
              "25%      7752.250000       0.000000       1.200000   10185.500000  \n",
              "50%     17542.500000       4.000000       1.600000   14550.000000  \n",
              "75%     32475.000000       4.000000       2.000000   20870.750000  \n",
              "max    323000.000000       4.000000       6.600000  159999.000000  "
            ]
          },
          "execution_count": 10,
          "metadata": {},
          "output_type": "execute_result"
        }
      ],
      "source": [
        "data = full_data.dropna(axis=0)\n",
        "data.describe()"
      ]
    },
    {
      "cell_type": "code",
      "execution_count": 11,
      "metadata": {
        "colab": {
          "base_uri": "https://localhost:8080/"
        },
        "id": "cTW7ZC0Znzzt",
        "outputId": "a8e17e11-e3ed-47f8-a0fd-0d2c603099ba"
      },
      "outputs": [
        {
          "name": "stdout",
          "output_type": "stream",
          "text": [
            "brand             int64\n",
            "model             int64\n",
            "year              int64\n",
            "transmission      int64\n",
            "mileage           int64\n",
            "fuelType          int64\n",
            "engineSize      float64\n",
            "price             int64\n",
            "dtype: object\n"
          ]
        }
      ],
      "source": [
        "print (full_data.dtypes)"
      ]
    },
    {
      "cell_type": "code",
      "execution_count": 12,
      "metadata": {
        "id": "czvFVPEpnz1t"
      },
      "outputs": [],
      "source": [
        "import pandas as pd\n",
        "import numpy as np\n",
        "import matplotlib.pyplot as plt\n",
        "import sklearn.metrics as metrics"
      ]
    },
    {
      "cell_type": "code",
      "execution_count": 13,
      "metadata": {},
      "outputs": [
        {
          "data": {
            "text/plain": [
              "((106066, 7), (106066,))"
            ]
          },
          "execution_count": 13,
          "metadata": {},
          "output_type": "execute_result"
        }
      ],
      "source": [
        "from sklearn.model_selection import train_test_split\n",
        "features = ['brand','model','year',\t'transmission',\t'mileage',\t'fuelType',\t'engineSize']\n",
        "x = full_data[features]\n",
        "y = full_data['price']\n",
        "x.shape, y.shape\n"
      ]
    },
    {
      "cell_type": "code",
      "execution_count": 14,
      "metadata": {},
      "outputs": [],
      "source": [
        "# from sklearn.preprocessing import StandardScaler\n",
        "\n",
        "# scaler = StandardScaler()\n",
        "# cols=['brand','model','year',\t'transmission',\t'mileage',\t'fuelType',\t'engineSize']\n",
        "# full_data[cols]=scaler.fit_transform(full_data[cols])\n",
        "# full_data.head()"
      ]
    },
    {
      "cell_type": "code",
      "execution_count": 15,
      "metadata": {
        "colab": {
          "base_uri": "https://localhost:8080/"
        },
        "id": "FtqASksWn3_C",
        "outputId": "97cecd96-5589-492f-8d99-bc40ba412948"
      },
      "outputs": [],
      "source": [
        "# from sklearn.model_selection import train_test_split\n",
        "\n",
        "# x = full_data.drop('price', axis=1)\n",
        "# y = full_data[['price']]"
      ]
    },
    {
      "cell_type": "code",
      "execution_count": 16,
      "metadata": {},
      "outputs": [],
      "source": [
        "x_train, x_test, y_train, y_test = train_test_split(x, y, test_size = 0.2, random_state=22)"
      ]
    },
    {
      "cell_type": "code",
      "execution_count": 17,
      "metadata": {},
      "outputs": [
        {
          "data": {
            "text/plain": [
              "(84852, 7)"
            ]
          },
          "execution_count": 17,
          "metadata": {},
          "output_type": "execute_result"
        }
      ],
      "source": [
        "x_train.shape"
      ]
    },
    {
      "cell_type": "code",
      "execution_count": 18,
      "metadata": {},
      "outputs": [],
      "source": [
        "# Modelling"
      ]
    },
    {
      "cell_type": "code",
      "execution_count": null,
      "metadata": {},
      "outputs": [],
      "source": []
    },
    {
      "cell_type": "code",
      "execution_count": 19,
      "metadata": {},
      "outputs": [],
      "source": [
        "from sklearn.linear_model import LinearRegression\n",
        "from sklearn.svm import SVR\n",
        "from sklearn.tree import DecisionTreeRegressor\n",
        "from sklearn.ensemble import RandomForestRegressor\n",
        "\n",
        "from sklearn.neighbors import KNeighborsRegressor\n",
        "\n",
        "from sklearn.metrics import r2_score"
      ]
    },
    {
      "cell_type": "code",
      "execution_count": 20,
      "metadata": {},
      "outputs": [],
      "source": [
        "models = {'LR' : LinearRegression(), \n",
        "          'DT' : DecisionTreeRegressor(), \n",
        "          'RF' : RandomForestRegressor(), \n",
        "          'KNN' : KNeighborsRegressor()}"
      ]
    },
    {
      "cell_type": "code",
      "execution_count": 21,
      "metadata": {},
      "outputs": [
        {
          "name": "stdout",
          "output_type": "stream",
          "text": [
            "LR\n",
            "----------\n",
            "Train Score 0.7244110491701441\n",
            "Validation Score 0.7146503954612284\n",
            "==================================================\n",
            "DT\n",
            "----------\n",
            "Train Score 0.9985365586874905\n",
            "Validation Score 0.9017056712499629\n",
            "==================================================\n",
            "RF\n",
            "----------\n",
            "Train Score 0.9907384724881504\n",
            "Validation Score 0.9410512802836616\n",
            "==================================================\n",
            "KNN\n",
            "----------\n",
            "Train Score 0.5988657865525937\n",
            "Validation Score 0.37146843510777783\n",
            "==================================================\n"
          ]
        }
      ],
      "source": [
        "for name, model in models.items() :\n",
        "    print(name)\n",
        "    print('-'*10)\n",
        "    model.fit(x_train, y_train)\n",
        "    y_pred = model.predict(x_test)\n",
        "    \n",
        "    ## score \n",
        "    print('Train Score', r2_score(y_train, model.predict(x_train)))\n",
        "    print('Validation Score', r2_score(y_test, y_pred))\n",
        "    print('='*50)"
      ]
    },
    {
      "cell_type": "code",
      "execution_count": 22,
      "metadata": {},
      "outputs": [],
      "source": [
        "# Random Forest"
      ]
    },
    {
      "cell_type": "code",
      "execution_count": 23,
      "metadata": {},
      "outputs": [
        {
          "name": "stdout",
          "output_type": "stream",
          "text": [
            "LR\n",
            "----------\n",
            "Best Parameters: {'copy_X': True, 'fit_intercept': True, 'positive': False}\n",
            "Train Score 0.7244110491701441\n",
            "Validation Score 0.7146503954612284\n",
            "==================================================\n",
            "DT\n",
            "----------\n"
          ]
        }
      ],
      "source": [
        "from sklearn.model_selection import GridSearchCV\n",
        "from sklearn.linear_model import LinearRegression\n",
        "from sklearn.tree import DecisionTreeRegressor\n",
        "from sklearn.ensemble import RandomForestRegressor\n",
        "from sklearn.neighbors import KNeighborsRegressor\n",
        "from sklearn.metrics import r2_score\n",
        "\n",
        "# Data preparation (assuming x_train, y_train, x_test, y_test are already defined)\n",
        "# x_train, y_train, x_test, y_test = ...\n",
        "\n",
        "# Models\n",
        "models = {\n",
        "    'LR': LinearRegression(),\n",
        "    'DT': DecisionTreeRegressor(),\n",
        "    'RF': RandomForestRegressor(),\n",
        "    'KNN': KNeighborsRegressor()\n",
        "}\n",
        "\n",
        "# Parameter grids for each model\n",
        "param_grids = {\n",
        "    'LR': {\n",
        "        'fit_intercept': [True, False],\n",
        "        'copy_X': [True, False],\n",
        "        'positive': [True, False]\n",
        "    },\n",
        "    'DT': {\n",
        "        'criterion': ['squared_error', 'friedman_mse', 'absolute_error', 'poisson'],\n",
        "        'max_depth': [None, 10, 20, 30, 40, 50],\n",
        "        'min_samples_split': [2, 5, 10],\n",
        "        'min_samples_leaf': [1, 2, 4]\n",
        "    },\n",
        "    'RF': {\n",
        "        'n_estimators': [100, 200, 300],\n",
        "        'criterion': ['squared_error', 'absolute_error', 'poisson'],\n",
        "        'max_depth': [None, 10, 20, 30, 40, 50],\n",
        "        'min_samples_split': [2, 5, 10],\n",
        "        'min_samples_leaf': [1, 2, 4]\n",
        "    },\n",
        "    'KNN': {\n",
        "        'n_neighbors': [3, 5, 7, 9, 11],\n",
        "        'weights': ['uniform', 'distance'],\n",
        "        'algorithm': ['auto', 'ball_tree', 'kd_tree', 'brute']\n",
        "    }\n",
        "}\n",
        "\n",
        "# Finding best parameters for each model\n",
        "for name, model in models.items():\n",
        "    print(name)\n",
        "    print('-' * 10)\n",
        "    \n",
        "    grid_search = GridSearchCV(model, param_grids[name], cv=5, scoring='r2', n_jobs=-1)\n",
        "    grid_search.fit(x_train, y_train)\n",
        "    best_model = grid_search.best_estimator_\n",
        "    \n",
        "    y_pred = best_model.predict(x_test)\n",
        "    \n",
        "    # Scores\n",
        "    print(\"Best Parameters:\", grid_search.best_params_)\n",
        "    print('Train Score', r2_score(y_train, best_model.predict(x_train)))\n",
        "    print('Validation Score', r2_score(y_test, y_pred))\n",
        "    print('=' * 50)\n"
      ]
    },
    {
      "cell_type": "code",
      "execution_count": null,
      "metadata": {},
      "outputs": [
        {
          "data": {
            "text/plain": [
              "0.9906075471734245"
            ]
          },
          "execution_count": 22,
          "metadata": {},
          "output_type": "execute_result"
        }
      ],
      "source": [
        "# Random Forest\n",
        "\n",
        "model = RandomForestRegressor()\n",
        "model.fit(x_train, y_train)\n",
        "r2_score(y_train, model.predict(x_train))"
      ]
    },
    {
      "cell_type": "code",
      "execution_count": null,
      "metadata": {},
      "outputs": [
        {
          "data": {
            "text/plain": [
              "0.9408540341915105"
            ]
          },
          "execution_count": 23,
          "metadata": {},
          "output_type": "execute_result"
        }
      ],
      "source": [
        "y_pred = model.predict(x_test)\n",
        "r2_score(y_test, y_pred)\n"
      ]
    },
    {
      "cell_type": "code",
      "execution_count": null,
      "metadata": {},
      "outputs": [
        {
          "name": "stderr",
          "output_type": "stream",
          "text": [
            "c:\\PA\\cars\\Lib\\site-packages\\sklearn\\base.py:464: UserWarning:\n",
            "\n",
            "X does not have valid feature names, but RandomForestRegressor was fitted with feature names\n",
            "\n"
          ]
        },
        {
          "name": "stdout",
          "output_type": "stream",
          "text": [
            "Hasil Prediksi harga mobil bekas dengan old model: £15939.17 atau jika dikonversikan ke Euro: €18330.05 atau jika dirupiahkan yaitu: Rp321.78 Juta\n",
            "Hasil Prediksi harga mobil bekas dengan new model: £15851.32 atau jika dikonversikan ke Euro: €18229.02 atau jika dirupiahkan yaitu: Rp320.00 Juta\n"
          ]
        },
        {
          "name": "stderr",
          "output_type": "stream",
          "text": [
            "c:\\PA\\cars\\Lib\\site-packages\\sklearn\\base.py:464: UserWarning:\n",
            "\n",
            "X does not have valid feature names, but RandomForestRegressor was fitted with feature names\n",
            "\n"
          ]
        }
      ],
      "source": [
        "# Data mobil bekas untuk prediksi\n",
        "data_mobil_bekas = np.array([[8, 75, 2016, 1, 24089, 4, 2.0]])\n",
        "# Pastikan urutan fitur sesuai dengan urutan yang diharapkan model\n",
        "\n",
        "# Melakukan prediksi dengan model\n",
        "prediction_old = model.predict(data_mobil_bekas)\n",
        "\n",
        "# Jika Anda memiliki model baru, lakukan prediksi dengan model baru\n",
        "# Untuk contoh ini, kita anggap model baru sudah dibuat dan disimpan dalam variabel new_model\n",
        "new_model = RandomForestRegressor()  # Buat contoh model baru, ganti dengan model Anda\n",
        "new_model.fit(x_train, y_train)\n",
        "prediction_new = new_model.predict(data_mobil_bekas)\n",
        "\n",
        "# Menampilkan hasil prediksi dalam Euro dan Rupiah\n",
        "kurs_gbp_to_eur = 1.15  # Kurs GBP ke EUR\n",
        "kurs_eur_to_idr = 17554.58 # Kurs EUR ke IDR\n",
        "\n",
        "# Konversi dari GBP ke EUR\n",
        "harga_old_eur = prediction_old * kurs_gbp_to_eur\n",
        "harga_new_eur = prediction_new * kurs_gbp_to_eur\n",
        "\n",
        "# Konversi dari EUR ke IDR\n",
        "harga_old_idr = harga_old_eur * kurs_eur_to_idr * 1e-6  # Dalam juta Rupiah\n",
        "harga_new_idr = harga_new_eur * kurs_eur_to_idr * 1e-6  # Dalam juta Rupiah\n",
        "\n",
        "print(f'Hasil Prediksi harga mobil bekas dengan old model: £{prediction_old[0]:.2f} atau jika dikonversikan ke Euro: €{harga_old_eur[0]:.2f} atau jika dirupiahkan yaitu: Rp{harga_old_idr[0]:.2f} Juta\\n'\n",
        "      f'Hasil Prediksi harga mobil bekas dengan new model: £{prediction_new[0]:.2f} atau jika dikonversikan ke Euro: €{harga_new_eur[0]:.2f} atau jika dirupiahkan yaitu: Rp{harga_new_idr[0]:.2f} Juta')\n",
        "\n"
      ]
    },
    {
      "cell_type": "code",
      "execution_count": null,
      "metadata": {},
      "outputs": [],
      "source": [
        "# import pickle\n",
        "\n",
        "# filename = 'mobb.sav'\n",
        "# with open(filename, 'wb') as file:\n",
        "#     pickle.dump(new_model, file)"
      ]
    },
    {
      "cell_type": "code",
      "execution_count": null,
      "metadata": {},
      "outputs": [],
      "source": [
        "# # Knn\n",
        "\n",
        "\n",
        "# model = KNeighborsRegressor()\n",
        "# model.fit(x_train, y_train)\n",
        "# r2_score(y_train, model.predict(x_train))"
      ]
    },
    {
      "cell_type": "code",
      "execution_count": null,
      "metadata": {},
      "outputs": [],
      "source": [
        "# y_pred = model.predict(x_test)\n",
        "# r2_score(y_test, y_pred)\n"
      ]
    },
    {
      "cell_type": "code",
      "execution_count": null,
      "metadata": {},
      "outputs": [],
      "source": []
    },
    {
      "cell_type": "markdown",
      "metadata": {
        "id": "7U5lY0IhoL-l"
      },
      "source": [
        "#Prediksi"
      ]
    },
    {
      "cell_type": "code",
      "execution_count": null,
      "metadata": {
        "id": "UWe5vfW3oBTK"
      },
      "outputs": [],
      "source": [
        "import pickle\n",
        "\n",
        "filename = 'mob.sav'\n",
        "with open(filename, 'wb') as file:\n",
        "    pickle.dump(new_model, file)"
      ]
    },
    {
      "cell_type": "code",
      "execution_count": null,
      "metadata": {
        "id": "-y25UGgvnxsw"
      },
      "outputs": [],
      "source": []
    },
    {
      "cell_type": "code",
      "execution_count": null,
      "metadata": {
        "id": "_LQ9giQznxwB"
      },
      "outputs": [],
      "source": []
    },
    {
      "cell_type": "code",
      "execution_count": null,
      "metadata": {
        "id": "I0V5L-eyntYo"
      },
      "outputs": [],
      "source": []
    }
  ],
  "metadata": {
    "colab": {
      "provenance": []
    },
    "kernelspec": {
      "display_name": "Python 3",
      "name": "python3"
    },
    "language_info": {
      "codemirror_mode": {
        "name": "ipython",
        "version": 3
      },
      "file_extension": ".py",
      "mimetype": "text/x-python",
      "name": "python",
      "nbconvert_exporter": "python",
      "pygments_lexer": "ipython3",
      "version": "3.12.3"
    }
  },
  "nbformat": 4,
  "nbformat_minor": 0
}
